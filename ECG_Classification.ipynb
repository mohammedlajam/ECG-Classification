{
 "cells": [
  {
   "cell_type": "code",
   "execution_count": 27,
   "id": "35cc577f",
   "metadata": {},
   "outputs": [
    {
     "name": "stdout",
     "output_type": "stream",
     "text": [
      "Requirement already satisfied: imblearn in /Library/Frameworks/Python.framework/Versions/3.9/lib/python3.9/site-packages (0.0)\n",
      "Requirement already satisfied: imbalanced-learn in /Library/Frameworks/Python.framework/Versions/3.9/lib/python3.9/site-packages (from imblearn) (0.9.1)\n",
      "Requirement already satisfied: numpy>=1.17.3 in /Library/Frameworks/Python.framework/Versions/3.9/lib/python3.9/site-packages (from imbalanced-learn->imblearn) (1.19.5)\n",
      "Requirement already satisfied: joblib>=1.0.0 in /Library/Frameworks/Python.framework/Versions/3.9/lib/python3.9/site-packages (from imbalanced-learn->imblearn) (1.1.0)\n",
      "Requirement already satisfied: threadpoolctl>=2.0.0 in /Library/Frameworks/Python.framework/Versions/3.9/lib/python3.9/site-packages (from imbalanced-learn->imblearn) (3.1.0)\n",
      "Requirement already satisfied: scipy>=1.3.2 in /Library/Frameworks/Python.framework/Versions/3.9/lib/python3.9/site-packages (from imbalanced-learn->imblearn) (1.9.1)\n",
      "Requirement already satisfied: scikit-learn>=1.1.0 in /Library/Frameworks/Python.framework/Versions/3.9/lib/python3.9/site-packages (from imbalanced-learn->imblearn) (1.1.2)\n",
      "Note: you may need to restart the kernel to use updated packages.\n"
     ]
    }
   ],
   "source": [
    "pip install imblearn"
   ]
  },
  {
   "cell_type": "code",
   "execution_count": 28,
   "id": "cba3cff7",
   "metadata": {},
   "outputs": [
    {
     "name": "stdout",
     "output_type": "stream",
     "text": [
      "Requirement already satisfied: seaborn in /Library/Frameworks/Python.framework/Versions/3.9/lib/python3.9/site-packages (0.12.0)\r\n",
      "Requirement already satisfied: numpy>=1.17 in /Library/Frameworks/Python.framework/Versions/3.9/lib/python3.9/site-packages (from seaborn) (1.19.5)\r\n",
      "Requirement already satisfied: pandas>=0.25 in /Library/Frameworks/Python.framework/Versions/3.9/lib/python3.9/site-packages (from seaborn) (1.4.4)\r\n",
      "Requirement already satisfied: matplotlib>=3.1 in /Library/Frameworks/Python.framework/Versions/3.9/lib/python3.9/site-packages (from seaborn) (3.4.1)\r\n",
      "Requirement already satisfied: python-dateutil>=2.7 in /Library/Frameworks/Python.framework/Versions/3.9/lib/python3.9/site-packages (from matplotlib>=3.1->seaborn) (2.8.2)\r\n",
      "Requirement already satisfied: pillow>=6.2.0 in /Library/Frameworks/Python.framework/Versions/3.9/lib/python3.9/site-packages (from matplotlib>=3.1->seaborn) (8.2.0)\r\n",
      "Requirement already satisfied: kiwisolver>=1.0.1 in /Library/Frameworks/Python.framework/Versions/3.9/lib/python3.9/site-packages (from matplotlib>=3.1->seaborn) (1.3.1)\r\n",
      "Requirement already satisfied: pyparsing>=2.2.1 in /Library/Frameworks/Python.framework/Versions/3.9/lib/python3.9/site-packages (from matplotlib>=3.1->seaborn) (2.4.7)\r\n",
      "Requirement already satisfied: cycler>=0.10 in /Library/Frameworks/Python.framework/Versions/3.9/lib/python3.9/site-packages (from matplotlib>=3.1->seaborn) (0.10.0)\r\n",
      "Requirement already satisfied: pytz>=2020.1 in /Library/Frameworks/Python.framework/Versions/3.9/lib/python3.9/site-packages (from pandas>=0.25->seaborn) (2022.2.1)\r\n",
      "Requirement already satisfied: six in /Library/Frameworks/Python.framework/Versions/3.9/lib/python3.9/site-packages (from cycler>=0.10->matplotlib>=3.1->seaborn) (1.15.0)\r\n"
     ]
    }
   ],
   "source": [
    "!pip install seaborn"
   ]
  },
  {
   "cell_type": "code",
   "execution_count": 2,
   "id": "60e59486",
   "metadata": {},
   "outputs": [
    {
     "name": "stderr",
     "output_type": "stream",
     "text": [
      "2022-09-18 19:51:29.517730: I tensorflow/core/platform/cpu_feature_guard.cc:193] This TensorFlow binary is optimized with oneAPI Deep Neural Network Library (oneDNN) to use the following CPU instructions in performance-critical operations:  AVX2 AVX512F AVX512_VNNI FMA\n",
      "To enable them in other operations, rebuild TensorFlow with the appropriate compiler flags.\n"
     ]
    }
   ],
   "source": [
    "# Importing libraries:\n",
    "import pandas as pd\n",
    "import numpy as np\n",
    "import matplotlib.pyplot as plt\n",
    "import seaborn as sns\n",
    "\n",
    "# deep learning libraries:\n",
    "from sklearn.model_selection import train_test_split\n",
    "from keras.layers import Dense, Activation\n",
    "from keras.models import Sequential\n",
    "from sklearn.metrics import classification_report, confusion_matrix\n",
    "from imblearn.combine import SMOTEENN\n",
    "from keras.wrappers.scikit_learn import KerasClassifier\n",
    "from sklearn.model_selection import KFold, cross_val_score\n",
    "\n",
    "import warnings \n",
    "warnings.filterwarnings('ignore')"
   ]
  },
  {
   "cell_type": "code",
   "execution_count": 3,
   "id": "84d97414",
   "metadata": {},
   "outputs": [],
   "source": [
    "# Importing the data\n",
    "train = pd.read_csv('mitbih_train.csv', header=None)\n",
    "test = pd.read_csv('mitbih_test.csv', header=None)"
   ]
  },
  {
   "cell_type": "markdown",
   "id": "53189c32",
   "metadata": {},
   "source": [
    "# 1. Data Preprocessing:"
   ]
  },
  {
   "cell_type": "markdown",
   "id": "455918c2",
   "metadata": {},
   "source": [
    "The train and test set contain all the record of the ECG signal for many subjects.\n",
    "The last column represents the class of each record:\n",
    "- 0: Normal Heart beat\n",
    "- 1: Unknown Heart beat\n",
    "- 2: Ventricular Ectopic beat\n",
    "- 3: Superventricular Ectopic beat\n",
    "- 4: Fusion beat"
   ]
  },
  {
   "cell_type": "code",
   "execution_count": 31,
   "id": "62b3b06d",
   "metadata": {},
   "outputs": [
    {
     "data": {
      "text/html": [
       "<div>\n",
       "<style scoped>\n",
       "    .dataframe tbody tr th:only-of-type {\n",
       "        vertical-align: middle;\n",
       "    }\n",
       "\n",
       "    .dataframe tbody tr th {\n",
       "        vertical-align: top;\n",
       "    }\n",
       "\n",
       "    .dataframe thead th {\n",
       "        text-align: right;\n",
       "    }\n",
       "</style>\n",
       "<table border=\"1\" class=\"dataframe\">\n",
       "  <thead>\n",
       "    <tr style=\"text-align: right;\">\n",
       "      <th></th>\n",
       "      <th>0</th>\n",
       "      <th>1</th>\n",
       "      <th>2</th>\n",
       "      <th>3</th>\n",
       "      <th>4</th>\n",
       "      <th>5</th>\n",
       "      <th>6</th>\n",
       "      <th>7</th>\n",
       "      <th>8</th>\n",
       "      <th>9</th>\n",
       "      <th>...</th>\n",
       "      <th>178</th>\n",
       "      <th>179</th>\n",
       "      <th>180</th>\n",
       "      <th>181</th>\n",
       "      <th>182</th>\n",
       "      <th>183</th>\n",
       "      <th>184</th>\n",
       "      <th>185</th>\n",
       "      <th>186</th>\n",
       "      <th>187</th>\n",
       "    </tr>\n",
       "  </thead>\n",
       "  <tbody>\n",
       "    <tr>\n",
       "      <th>0</th>\n",
       "      <td>0.977941</td>\n",
       "      <td>0.926471</td>\n",
       "      <td>0.681373</td>\n",
       "      <td>0.245098</td>\n",
       "      <td>0.154412</td>\n",
       "      <td>0.191176</td>\n",
       "      <td>0.151961</td>\n",
       "      <td>0.085784</td>\n",
       "      <td>0.058824</td>\n",
       "      <td>0.049020</td>\n",
       "      <td>...</td>\n",
       "      <td>0.0</td>\n",
       "      <td>0.0</td>\n",
       "      <td>0.0</td>\n",
       "      <td>0.0</td>\n",
       "      <td>0.0</td>\n",
       "      <td>0.0</td>\n",
       "      <td>0.0</td>\n",
       "      <td>0.0</td>\n",
       "      <td>0.0</td>\n",
       "      <td>0.0</td>\n",
       "    </tr>\n",
       "    <tr>\n",
       "      <th>1</th>\n",
       "      <td>0.960114</td>\n",
       "      <td>0.863248</td>\n",
       "      <td>0.461538</td>\n",
       "      <td>0.196581</td>\n",
       "      <td>0.094017</td>\n",
       "      <td>0.125356</td>\n",
       "      <td>0.099715</td>\n",
       "      <td>0.088319</td>\n",
       "      <td>0.074074</td>\n",
       "      <td>0.082621</td>\n",
       "      <td>...</td>\n",
       "      <td>0.0</td>\n",
       "      <td>0.0</td>\n",
       "      <td>0.0</td>\n",
       "      <td>0.0</td>\n",
       "      <td>0.0</td>\n",
       "      <td>0.0</td>\n",
       "      <td>0.0</td>\n",
       "      <td>0.0</td>\n",
       "      <td>0.0</td>\n",
       "      <td>0.0</td>\n",
       "    </tr>\n",
       "    <tr>\n",
       "      <th>2</th>\n",
       "      <td>1.000000</td>\n",
       "      <td>0.659459</td>\n",
       "      <td>0.186486</td>\n",
       "      <td>0.070270</td>\n",
       "      <td>0.070270</td>\n",
       "      <td>0.059459</td>\n",
       "      <td>0.056757</td>\n",
       "      <td>0.043243</td>\n",
       "      <td>0.054054</td>\n",
       "      <td>0.045946</td>\n",
       "      <td>...</td>\n",
       "      <td>0.0</td>\n",
       "      <td>0.0</td>\n",
       "      <td>0.0</td>\n",
       "      <td>0.0</td>\n",
       "      <td>0.0</td>\n",
       "      <td>0.0</td>\n",
       "      <td>0.0</td>\n",
       "      <td>0.0</td>\n",
       "      <td>0.0</td>\n",
       "      <td>0.0</td>\n",
       "    </tr>\n",
       "    <tr>\n",
       "      <th>3</th>\n",
       "      <td>0.925414</td>\n",
       "      <td>0.665746</td>\n",
       "      <td>0.541436</td>\n",
       "      <td>0.276243</td>\n",
       "      <td>0.196133</td>\n",
       "      <td>0.077348</td>\n",
       "      <td>0.071823</td>\n",
       "      <td>0.060773</td>\n",
       "      <td>0.066298</td>\n",
       "      <td>0.058011</td>\n",
       "      <td>...</td>\n",
       "      <td>0.0</td>\n",
       "      <td>0.0</td>\n",
       "      <td>0.0</td>\n",
       "      <td>0.0</td>\n",
       "      <td>0.0</td>\n",
       "      <td>0.0</td>\n",
       "      <td>0.0</td>\n",
       "      <td>0.0</td>\n",
       "      <td>0.0</td>\n",
       "      <td>0.0</td>\n",
       "    </tr>\n",
       "    <tr>\n",
       "      <th>4</th>\n",
       "      <td>0.967136</td>\n",
       "      <td>1.000000</td>\n",
       "      <td>0.830986</td>\n",
       "      <td>0.586854</td>\n",
       "      <td>0.356808</td>\n",
       "      <td>0.248826</td>\n",
       "      <td>0.145540</td>\n",
       "      <td>0.089202</td>\n",
       "      <td>0.117371</td>\n",
       "      <td>0.150235</td>\n",
       "      <td>...</td>\n",
       "      <td>0.0</td>\n",
       "      <td>0.0</td>\n",
       "      <td>0.0</td>\n",
       "      <td>0.0</td>\n",
       "      <td>0.0</td>\n",
       "      <td>0.0</td>\n",
       "      <td>0.0</td>\n",
       "      <td>0.0</td>\n",
       "      <td>0.0</td>\n",
       "      <td>0.0</td>\n",
       "    </tr>\n",
       "  </tbody>\n",
       "</table>\n",
       "<p>5 rows × 188 columns</p>\n",
       "</div>"
      ],
      "text/plain": [
       "        0         1         2         3         4         5         6    \\\n",
       "0  0.977941  0.926471  0.681373  0.245098  0.154412  0.191176  0.151961   \n",
       "1  0.960114  0.863248  0.461538  0.196581  0.094017  0.125356  0.099715   \n",
       "2  1.000000  0.659459  0.186486  0.070270  0.070270  0.059459  0.056757   \n",
       "3  0.925414  0.665746  0.541436  0.276243  0.196133  0.077348  0.071823   \n",
       "4  0.967136  1.000000  0.830986  0.586854  0.356808  0.248826  0.145540   \n",
       "\n",
       "        7         8         9    ...  178  179  180  181  182  183  184  185  \\\n",
       "0  0.085784  0.058824  0.049020  ...  0.0  0.0  0.0  0.0  0.0  0.0  0.0  0.0   \n",
       "1  0.088319  0.074074  0.082621  ...  0.0  0.0  0.0  0.0  0.0  0.0  0.0  0.0   \n",
       "2  0.043243  0.054054  0.045946  ...  0.0  0.0  0.0  0.0  0.0  0.0  0.0  0.0   \n",
       "3  0.060773  0.066298  0.058011  ...  0.0  0.0  0.0  0.0  0.0  0.0  0.0  0.0   \n",
       "4  0.089202  0.117371  0.150235  ...  0.0  0.0  0.0  0.0  0.0  0.0  0.0  0.0   \n",
       "\n",
       "   186  187  \n",
       "0  0.0  0.0  \n",
       "1  0.0  0.0  \n",
       "2  0.0  0.0  \n",
       "3  0.0  0.0  \n",
       "4  0.0  0.0  \n",
       "\n",
       "[5 rows x 188 columns]"
      ]
     },
     "execution_count": 31,
     "metadata": {},
     "output_type": "execute_result"
    }
   ],
   "source": [
    "train.head()"
   ]
  },
  {
   "cell_type": "code",
   "execution_count": 32,
   "id": "5c9f7937",
   "metadata": {},
   "outputs": [
    {
     "data": {
      "text/html": [
       "<div>\n",
       "<style scoped>\n",
       "    .dataframe tbody tr th:only-of-type {\n",
       "        vertical-align: middle;\n",
       "    }\n",
       "\n",
       "    .dataframe tbody tr th {\n",
       "        vertical-align: top;\n",
       "    }\n",
       "\n",
       "    .dataframe thead th {\n",
       "        text-align: right;\n",
       "    }\n",
       "</style>\n",
       "<table border=\"1\" class=\"dataframe\">\n",
       "  <thead>\n",
       "    <tr style=\"text-align: right;\">\n",
       "      <th></th>\n",
       "      <th>0</th>\n",
       "      <th>1</th>\n",
       "      <th>2</th>\n",
       "      <th>3</th>\n",
       "      <th>4</th>\n",
       "      <th>5</th>\n",
       "      <th>6</th>\n",
       "      <th>7</th>\n",
       "      <th>8</th>\n",
       "      <th>9</th>\n",
       "      <th>...</th>\n",
       "      <th>178</th>\n",
       "      <th>179</th>\n",
       "      <th>180</th>\n",
       "      <th>181</th>\n",
       "      <th>182</th>\n",
       "      <th>183</th>\n",
       "      <th>184</th>\n",
       "      <th>185</th>\n",
       "      <th>186</th>\n",
       "      <th>187</th>\n",
       "    </tr>\n",
       "  </thead>\n",
       "  <tbody>\n",
       "    <tr>\n",
       "      <th>0</th>\n",
       "      <td>1.000000</td>\n",
       "      <td>0.758264</td>\n",
       "      <td>0.111570</td>\n",
       "      <td>0.000000</td>\n",
       "      <td>0.080579</td>\n",
       "      <td>0.078512</td>\n",
       "      <td>0.066116</td>\n",
       "      <td>0.049587</td>\n",
       "      <td>0.047521</td>\n",
       "      <td>0.035124</td>\n",
       "      <td>...</td>\n",
       "      <td>0.0</td>\n",
       "      <td>0.0</td>\n",
       "      <td>0.0</td>\n",
       "      <td>0.0</td>\n",
       "      <td>0.0</td>\n",
       "      <td>0.0</td>\n",
       "      <td>0.0</td>\n",
       "      <td>0.0</td>\n",
       "      <td>0.0</td>\n",
       "      <td>0.0</td>\n",
       "    </tr>\n",
       "    <tr>\n",
       "      <th>1</th>\n",
       "      <td>0.908425</td>\n",
       "      <td>0.783883</td>\n",
       "      <td>0.531136</td>\n",
       "      <td>0.362637</td>\n",
       "      <td>0.366300</td>\n",
       "      <td>0.344322</td>\n",
       "      <td>0.333333</td>\n",
       "      <td>0.307692</td>\n",
       "      <td>0.296703</td>\n",
       "      <td>0.300366</td>\n",
       "      <td>...</td>\n",
       "      <td>0.0</td>\n",
       "      <td>0.0</td>\n",
       "      <td>0.0</td>\n",
       "      <td>0.0</td>\n",
       "      <td>0.0</td>\n",
       "      <td>0.0</td>\n",
       "      <td>0.0</td>\n",
       "      <td>0.0</td>\n",
       "      <td>0.0</td>\n",
       "      <td>0.0</td>\n",
       "    </tr>\n",
       "    <tr>\n",
       "      <th>2</th>\n",
       "      <td>0.730088</td>\n",
       "      <td>0.212389</td>\n",
       "      <td>0.000000</td>\n",
       "      <td>0.119469</td>\n",
       "      <td>0.101770</td>\n",
       "      <td>0.101770</td>\n",
       "      <td>0.110619</td>\n",
       "      <td>0.123894</td>\n",
       "      <td>0.115044</td>\n",
       "      <td>0.132743</td>\n",
       "      <td>...</td>\n",
       "      <td>0.0</td>\n",
       "      <td>0.0</td>\n",
       "      <td>0.0</td>\n",
       "      <td>0.0</td>\n",
       "      <td>0.0</td>\n",
       "      <td>0.0</td>\n",
       "      <td>0.0</td>\n",
       "      <td>0.0</td>\n",
       "      <td>0.0</td>\n",
       "      <td>0.0</td>\n",
       "    </tr>\n",
       "    <tr>\n",
       "      <th>3</th>\n",
       "      <td>1.000000</td>\n",
       "      <td>0.910417</td>\n",
       "      <td>0.681250</td>\n",
       "      <td>0.472917</td>\n",
       "      <td>0.229167</td>\n",
       "      <td>0.068750</td>\n",
       "      <td>0.000000</td>\n",
       "      <td>0.004167</td>\n",
       "      <td>0.014583</td>\n",
       "      <td>0.054167</td>\n",
       "      <td>...</td>\n",
       "      <td>0.0</td>\n",
       "      <td>0.0</td>\n",
       "      <td>0.0</td>\n",
       "      <td>0.0</td>\n",
       "      <td>0.0</td>\n",
       "      <td>0.0</td>\n",
       "      <td>0.0</td>\n",
       "      <td>0.0</td>\n",
       "      <td>0.0</td>\n",
       "      <td>0.0</td>\n",
       "    </tr>\n",
       "    <tr>\n",
       "      <th>4</th>\n",
       "      <td>0.570470</td>\n",
       "      <td>0.399329</td>\n",
       "      <td>0.238255</td>\n",
       "      <td>0.147651</td>\n",
       "      <td>0.000000</td>\n",
       "      <td>0.003356</td>\n",
       "      <td>0.040268</td>\n",
       "      <td>0.080537</td>\n",
       "      <td>0.070470</td>\n",
       "      <td>0.090604</td>\n",
       "      <td>...</td>\n",
       "      <td>0.0</td>\n",
       "      <td>0.0</td>\n",
       "      <td>0.0</td>\n",
       "      <td>0.0</td>\n",
       "      <td>0.0</td>\n",
       "      <td>0.0</td>\n",
       "      <td>0.0</td>\n",
       "      <td>0.0</td>\n",
       "      <td>0.0</td>\n",
       "      <td>0.0</td>\n",
       "    </tr>\n",
       "  </tbody>\n",
       "</table>\n",
       "<p>5 rows × 188 columns</p>\n",
       "</div>"
      ],
      "text/plain": [
       "        0         1         2         3         4         5         6    \\\n",
       "0  1.000000  0.758264  0.111570  0.000000  0.080579  0.078512  0.066116   \n",
       "1  0.908425  0.783883  0.531136  0.362637  0.366300  0.344322  0.333333   \n",
       "2  0.730088  0.212389  0.000000  0.119469  0.101770  0.101770  0.110619   \n",
       "3  1.000000  0.910417  0.681250  0.472917  0.229167  0.068750  0.000000   \n",
       "4  0.570470  0.399329  0.238255  0.147651  0.000000  0.003356  0.040268   \n",
       "\n",
       "        7         8         9    ...  178  179  180  181  182  183  184  185  \\\n",
       "0  0.049587  0.047521  0.035124  ...  0.0  0.0  0.0  0.0  0.0  0.0  0.0  0.0   \n",
       "1  0.307692  0.296703  0.300366  ...  0.0  0.0  0.0  0.0  0.0  0.0  0.0  0.0   \n",
       "2  0.123894  0.115044  0.132743  ...  0.0  0.0  0.0  0.0  0.0  0.0  0.0  0.0   \n",
       "3  0.004167  0.014583  0.054167  ...  0.0  0.0  0.0  0.0  0.0  0.0  0.0  0.0   \n",
       "4  0.080537  0.070470  0.090604  ...  0.0  0.0  0.0  0.0  0.0  0.0  0.0  0.0   \n",
       "\n",
       "   186  187  \n",
       "0  0.0  0.0  \n",
       "1  0.0  0.0  \n",
       "2  0.0  0.0  \n",
       "3  0.0  0.0  \n",
       "4  0.0  0.0  \n",
       "\n",
       "[5 rows x 188 columns]"
      ]
     },
     "execution_count": 32,
     "metadata": {},
     "output_type": "execute_result"
    }
   ],
   "source": [
    "test.head()"
   ]
  },
  {
   "cell_type": "code",
   "execution_count": 33,
   "id": "6ee771dc",
   "metadata": {},
   "outputs": [
    {
     "name": "stdout",
     "output_type": "stream",
     "text": [
      "(87554, 188)\n",
      "(21892, 188)\n"
     ]
    }
   ],
   "source": [
    "print(train.shape)\n",
    "print(test.shape)"
   ]
  },
  {
   "cell_type": "code",
   "execution_count": 34,
   "id": "417a1afd",
   "metadata": {},
   "outputs": [
    {
     "data": {
      "image/png": "[encoded data removed]",
      "text/plain": [
       "<Figure size 640x480 with 1 Axes>"
      ]
     },
     "metadata": {},
     "output_type": "display_data"
    }
   ],
   "source": [
    "# Visualize the first row after excluding the last column (Class):\n",
    "plt.plot(train.iloc[0, train.columns != 187])\n",
    "plt.show()"
   ]
  },
  {
   "cell_type": "code",
   "execution_count": 35,
   "id": "6d7f2ec2",
   "metadata": {},
   "outputs": [
    {
     "data": {
      "text/plain": [
       "0.0    72471\n",
       "4.0     6431\n",
       "2.0     5788\n",
       "1.0     2223\n",
       "3.0      641\n",
       "Name: 187, dtype: int64"
      ]
     },
     "execution_count": 35,
     "metadata": {},
     "output_type": "execute_result"
    }
   ],
   "source": [
    "# observing the number of subject per class:\n",
    "train.iloc[:, -1].value_counts()"
   ]
  },
  {
   "cell_type": "code",
   "execution_count": 36,
   "id": "5186e986",
   "metadata": {},
   "outputs": [
    {
     "data": {
      "image/png": "[encoded data removed]",
      "text/plain": [
       "<Figure size 640x480 with 1 Axes>"
      ]
     },
     "metadata": {},
     "output_type": "display_data"
    }
   ],
   "source": [
    "# Visualize the number of subjects in each class in the train dataset:\n",
    "classes = [0, 1, 2, 3, 4]\n",
    "sns.barplot(x=classes, y=train.iloc[:, -1].value_counts())\n",
    "plt.show()"
   ]
  },
  {
   "cell_type": "code",
   "execution_count": 37,
   "id": "a436f936",
   "metadata": {},
   "outputs": [
    {
     "data": {
      "text/html": [
       "<div>\n",
       "<style scoped>\n",
       "    .dataframe tbody tr th:only-of-type {\n",
       "        vertical-align: middle;\n",
       "    }\n",
       "\n",
       "    .dataframe tbody tr th {\n",
       "        vertical-align: top;\n",
       "    }\n",
       "\n",
       "    .dataframe thead th {\n",
       "        text-align: right;\n",
       "    }\n",
       "</style>\n",
       "<table border=\"1\" class=\"dataframe\">\n",
       "  <thead>\n",
       "    <tr style=\"text-align: right;\">\n",
       "      <th></th>\n",
       "      <th>0</th>\n",
       "      <th>1</th>\n",
       "      <th>2</th>\n",
       "      <th>3</th>\n",
       "      <th>4</th>\n",
       "      <th>5</th>\n",
       "      <th>6</th>\n",
       "      <th>7</th>\n",
       "      <th>8</th>\n",
       "      <th>9</th>\n",
       "      <th>...</th>\n",
       "      <th>178</th>\n",
       "      <th>179</th>\n",
       "      <th>180</th>\n",
       "      <th>181</th>\n",
       "      <th>182</th>\n",
       "      <th>183</th>\n",
       "      <th>184</th>\n",
       "      <th>185</th>\n",
       "      <th>186</th>\n",
       "      <th>187</th>\n",
       "    </tr>\n",
       "  </thead>\n",
       "  <tbody>\n",
       "    <tr>\n",
       "      <th>0</th>\n",
       "      <td>0.977941</td>\n",
       "      <td>0.926471</td>\n",
       "      <td>0.681373</td>\n",
       "      <td>0.245098</td>\n",
       "      <td>0.154412</td>\n",
       "      <td>0.191176</td>\n",
       "      <td>0.151961</td>\n",
       "      <td>0.085784</td>\n",
       "      <td>0.058824</td>\n",
       "      <td>0.049020</td>\n",
       "      <td>...</td>\n",
       "      <td>0.0</td>\n",
       "      <td>0.0</td>\n",
       "      <td>0.0</td>\n",
       "      <td>0.0</td>\n",
       "      <td>0.0</td>\n",
       "      <td>0.0</td>\n",
       "      <td>0.0</td>\n",
       "      <td>0.0</td>\n",
       "      <td>0.0</td>\n",
       "      <td>0.0</td>\n",
       "    </tr>\n",
       "    <tr>\n",
       "      <th>1</th>\n",
       "      <td>0.960114</td>\n",
       "      <td>0.863248</td>\n",
       "      <td>0.461538</td>\n",
       "      <td>0.196581</td>\n",
       "      <td>0.094017</td>\n",
       "      <td>0.125356</td>\n",
       "      <td>0.099715</td>\n",
       "      <td>0.088319</td>\n",
       "      <td>0.074074</td>\n",
       "      <td>0.082621</td>\n",
       "      <td>...</td>\n",
       "      <td>0.0</td>\n",
       "      <td>0.0</td>\n",
       "      <td>0.0</td>\n",
       "      <td>0.0</td>\n",
       "      <td>0.0</td>\n",
       "      <td>0.0</td>\n",
       "      <td>0.0</td>\n",
       "      <td>0.0</td>\n",
       "      <td>0.0</td>\n",
       "      <td>0.0</td>\n",
       "    </tr>\n",
       "    <tr>\n",
       "      <th>2</th>\n",
       "      <td>1.000000</td>\n",
       "      <td>0.659459</td>\n",
       "      <td>0.186486</td>\n",
       "      <td>0.070270</td>\n",
       "      <td>0.070270</td>\n",
       "      <td>0.059459</td>\n",
       "      <td>0.056757</td>\n",
       "      <td>0.043243</td>\n",
       "      <td>0.054054</td>\n",
       "      <td>0.045946</td>\n",
       "      <td>...</td>\n",
       "      <td>0.0</td>\n",
       "      <td>0.0</td>\n",
       "      <td>0.0</td>\n",
       "      <td>0.0</td>\n",
       "      <td>0.0</td>\n",
       "      <td>0.0</td>\n",
       "      <td>0.0</td>\n",
       "      <td>0.0</td>\n",
       "      <td>0.0</td>\n",
       "      <td>0.0</td>\n",
       "    </tr>\n",
       "    <tr>\n",
       "      <th>3</th>\n",
       "      <td>0.925414</td>\n",
       "      <td>0.665746</td>\n",
       "      <td>0.541436</td>\n",
       "      <td>0.276243</td>\n",
       "      <td>0.196133</td>\n",
       "      <td>0.077348</td>\n",
       "      <td>0.071823</td>\n",
       "      <td>0.060773</td>\n",
       "      <td>0.066298</td>\n",
       "      <td>0.058011</td>\n",
       "      <td>...</td>\n",
       "      <td>0.0</td>\n",
       "      <td>0.0</td>\n",
       "      <td>0.0</td>\n",
       "      <td>0.0</td>\n",
       "      <td>0.0</td>\n",
       "      <td>0.0</td>\n",
       "      <td>0.0</td>\n",
       "      <td>0.0</td>\n",
       "      <td>0.0</td>\n",
       "      <td>0.0</td>\n",
       "    </tr>\n",
       "    <tr>\n",
       "      <th>4</th>\n",
       "      <td>0.967136</td>\n",
       "      <td>1.000000</td>\n",
       "      <td>0.830986</td>\n",
       "      <td>0.586854</td>\n",
       "      <td>0.356808</td>\n",
       "      <td>0.248826</td>\n",
       "      <td>0.145540</td>\n",
       "      <td>0.089202</td>\n",
       "      <td>0.117371</td>\n",
       "      <td>0.150235</td>\n",
       "      <td>...</td>\n",
       "      <td>0.0</td>\n",
       "      <td>0.0</td>\n",
       "      <td>0.0</td>\n",
       "      <td>0.0</td>\n",
       "      <td>0.0</td>\n",
       "      <td>0.0</td>\n",
       "      <td>0.0</td>\n",
       "      <td>0.0</td>\n",
       "      <td>0.0</td>\n",
       "      <td>0.0</td>\n",
       "    </tr>\n",
       "  </tbody>\n",
       "</table>\n",
       "<p>5 rows × 188 columns</p>\n",
       "</div>"
      ],
      "text/plain": [
       "        0         1         2         3         4         5         6    \\\n",
       "0  0.977941  0.926471  0.681373  0.245098  0.154412  0.191176  0.151961   \n",
       "1  0.960114  0.863248  0.461538  0.196581  0.094017  0.125356  0.099715   \n",
       "2  1.000000  0.659459  0.186486  0.070270  0.070270  0.059459  0.056757   \n",
       "3  0.925414  0.665746  0.541436  0.276243  0.196133  0.077348  0.071823   \n",
       "4  0.967136  1.000000  0.830986  0.586854  0.356808  0.248826  0.145540   \n",
       "\n",
       "        7         8         9    ...  178  179  180  181  182  183  184  185  \\\n",
       "0  0.085784  0.058824  0.049020  ...  0.0  0.0  0.0  0.0  0.0  0.0  0.0  0.0   \n",
       "1  0.088319  0.074074  0.082621  ...  0.0  0.0  0.0  0.0  0.0  0.0  0.0  0.0   \n",
       "2  0.043243  0.054054  0.045946  ...  0.0  0.0  0.0  0.0  0.0  0.0  0.0  0.0   \n",
       "3  0.060773  0.066298  0.058011  ...  0.0  0.0  0.0  0.0  0.0  0.0  0.0  0.0   \n",
       "4  0.089202  0.117371  0.150235  ...  0.0  0.0  0.0  0.0  0.0  0.0  0.0  0.0   \n",
       "\n",
       "   186  187  \n",
       "0  0.0  0.0  \n",
       "1  0.0  0.0  \n",
       "2  0.0  0.0  \n",
       "3  0.0  0.0  \n",
       "4  0.0  0.0  \n",
       "\n",
       "[5 rows x 188 columns]"
      ]
     },
     "execution_count": 37,
     "metadata": {},
     "output_type": "execute_result"
    }
   ],
   "source": [
    "train.head()"
   ]
  },
  {
   "cell_type": "code",
   "execution_count": 38,
   "id": "7111c38f",
   "metadata": {},
   "outputs": [
    {
     "data": {
      "text/plain": [
       "0      0\n",
       "1      0\n",
       "2      0\n",
       "3      0\n",
       "4      0\n",
       "      ..\n",
       "183    0\n",
       "184    0\n",
       "185    0\n",
       "186    0\n",
       "187    0\n",
       "Length: 188, dtype: int64"
      ]
     },
     "execution_count": 38,
     "metadata": {},
     "output_type": "execute_result"
    }
   ],
   "source": [
    "# checking missing values:\n",
    "train.isna().sum()"
   ]
  },
  {
   "cell_type": "code",
   "execution_count": 39,
   "id": "bc932935",
   "metadata": {},
   "outputs": [
    {
     "data": {
      "text/plain": [
       "0      0\n",
       "1      0\n",
       "2      0\n",
       "3      0\n",
       "4      0\n",
       "      ..\n",
       "183    0\n",
       "184    0\n",
       "185    0\n",
       "186    0\n",
       "187    0\n",
       "Length: 188, dtype: int64"
      ]
     },
     "execution_count": 39,
     "metadata": {},
     "output_type": "execute_result"
    }
   ],
   "source": [
    "test.isna().sum()"
   ]
  },
  {
   "cell_type": "code",
   "execution_count": 40,
   "id": "3e5c343a",
   "metadata": {},
   "outputs": [],
   "source": [
    "# Splitting the data:\n",
    "# creating X and y from train dataset:\n",
    "X_train = train.loc[:,train.columns !=187]\n",
    "y_train = train.loc[: , train.columns == 187]"
   ]
  },
  {
   "cell_type": "code",
   "execution_count": 41,
   "id": "fb46cd6a",
   "metadata": {},
   "outputs": [],
   "source": [
    "# data balancing:\n",
    "sme = SMOTEENN(random_state=42)\n",
    "X_res, y_res = sme.fit_resample(X_train, y_train)"
   ]
  },
  {
   "cell_type": "code",
   "execution_count": 42,
   "id": "ecaff33c",
   "metadata": {},
   "outputs": [
    {
     "data": {
      "image/png": "[encoded data removed]",
      "text/plain": [
       "<Figure size 640x480 with 1 Axes>"
      ]
     },
     "metadata": {},
     "output_type": "display_data"
    }
   ],
   "source": [
    "sns.barplot(x= classes, y=y_res.value_counts())\n",
    "plt.show()"
   ]
  },
  {
   "cell_type": "code",
   "execution_count": 43,
   "id": "daaaa83c",
   "metadata": {},
   "outputs": [],
   "source": [
    "# creating Validation set from train set:\n",
    "X_train, X_val, y_train, y_val = train_test_split(X_res, y_res, test_size=0.2, random_state=0)"
   ]
  },
  {
   "cell_type": "code",
   "execution_count": 44,
   "id": "4485a847",
   "metadata": {},
   "outputs": [],
   "source": [
    "# creating X and y from test dataset:\n",
    "X_test = test.loc[:,train.columns !=187]\n",
    "y_test = test.loc[: , train.columns == 187]"
   ]
  },
  {
   "cell_type": "markdown",
   "id": "da636982",
   "metadata": {},
   "source": [
    "# 2. Building a Model:"
   ]
  },
  {
   "cell_type": "code",
   "execution_count": 55,
   "id": "ca60fa8e",
   "metadata": {},
   "outputs": [],
   "source": [
    "def ann_model():\n",
    "    model = Sequential()\n",
    "    model.add(Dense(50, input_shape=(187,), activation='relu'))\n",
    "    model.add(Dense(50, activation='relu'))\n",
    "    model.add(Dense(50, activation='softmax'))\n",
    "    model.compile(optimizer='adam', loss='sparse_categorical_crossentropy', metrics=['accuracy'])\n",
    "    return model"
   ]
  },
  {
   "cell_type": "code",
   "execution_count": 56,
   "id": "2a65380a",
   "metadata": {},
   "outputs": [
    {
     "name": "stdout",
     "output_type": "stream",
     "text": [
      "Epoch 1/20\n",
      "8970/8970 [==============================] - 16s 2ms/step - loss: 0.5191 - accuracy: 0.8173 - val_loss: 0.2021 - val_accuracy: 0.9280\n",
      "Epoch 2/20\n",
      "8970/8970 [==============================] - 19s 2ms/step - loss: 0.1682 - accuracy: 0.9400 - val_loss: 0.1294 - val_accuracy: 0.9551\n",
      "Epoch 3/20\n",
      "8970/8970 [==============================] - 18s 2ms/step - loss: 0.1168 - accuracy: 0.9593 - val_loss: 0.0976 - val_accuracy: 0.9667\n",
      "Epoch 4/20\n",
      "8970/8970 [==============================] - 14s 2ms/step - loss: 0.0926 - accuracy: 0.9680 - val_loss: 0.0898 - val_accuracy: 0.9692\n",
      "Epoch 5/20\n",
      "8970/8970 [==============================] - 15s 2ms/step - loss: 0.0774 - accuracy: 0.9737 - val_loss: 0.0721 - val_accuracy: 0.9754\n",
      "Epoch 6/20\n",
      "8970/8970 [==============================] - 15s 2ms/step - loss: 0.0674 - accuracy: 0.9770 - val_loss: 0.0598 - val_accuracy: 0.9798\n",
      "Epoch 7/20\n",
      "8970/8970 [==============================] - 14s 2ms/step - loss: 0.0596 - accuracy: 0.9801 - val_loss: 0.0584 - val_accuracy: 0.9808\n",
      "Epoch 8/20\n",
      "8970/8970 [==============================] - 15s 2ms/step - loss: 0.0527 - accuracy: 0.9827 - val_loss: 0.0647 - val_accuracy: 0.9786\n",
      "Epoch 9/20\n",
      "8970/8970 [==============================] - 14s 2ms/step - loss: 0.0499 - accuracy: 0.9833 - val_loss: 0.0509 - val_accuracy: 0.9827\n",
      "Epoch 10/20\n",
      "8970/8970 [==============================] - 15s 2ms/step - loss: 0.0452 - accuracy: 0.9846 - val_loss: 0.0430 - val_accuracy: 0.9858\n",
      "Epoch 11/20\n",
      "8970/8970 [==============================] - 15s 2ms/step - loss: 0.0425 - accuracy: 0.9858 - val_loss: 0.0447 - val_accuracy: 0.9849\n",
      "Epoch 12/20\n",
      "8970/8970 [==============================] - 15s 2ms/step - loss: 0.0387 - accuracy: 0.9872 - val_loss: 0.0394 - val_accuracy: 0.9872\n",
      "Epoch 13/20\n",
      "8970/8970 [==============================] - 14s 2ms/step - loss: 0.0378 - accuracy: 0.9875 - val_loss: 0.0438 - val_accuracy: 0.9865\n",
      "Epoch 14/20\n",
      "8970/8970 [==============================] - 15s 2ms/step - loss: 0.0360 - accuracy: 0.9879 - val_loss: 0.0413 - val_accuracy: 0.9868\n",
      "Epoch 15/20\n",
      "8970/8970 [==============================] - 16s 2ms/step - loss: 0.0342 - accuracy: 0.9889 - val_loss: 0.0382 - val_accuracy: 0.9876\n",
      "Epoch 16/20\n",
      "8970/8970 [==============================] - 15s 2ms/step - loss: 0.0315 - accuracy: 0.9895 - val_loss: 0.0469 - val_accuracy: 0.9853\n",
      "Epoch 17/20\n",
      "8970/8970 [==============================] - 15s 2ms/step - loss: 0.0329 - accuracy: 0.9890 - val_loss: 0.0334 - val_accuracy: 0.9895\n",
      "Epoch 18/20\n",
      "8970/8970 [==============================] - 14s 2ms/step - loss: 0.0291 - accuracy: 0.9904 - val_loss: 0.0359 - val_accuracy: 0.9886\n",
      "Epoch 19/20\n",
      "8970/8970 [==============================] - 15s 2ms/step - loss: 0.0283 - accuracy: 0.9905 - val_loss: 0.0259 - val_accuracy: 0.9924\n",
      "Epoch 20/20\n",
      "8970/8970 [==============================] - 14s 2ms/step - loss: 0.0276 - accuracy: 0.9910 - val_loss: 0.0380 - val_accuracy: 0.9877\n"
     ]
    }
   ],
   "source": [
    "model = ann_model()\n",
    "# model.compile(optimizer='adam', loss='sparse_categorical_crossentropy', metrics=['accuracy'])\n",
    "history = model.fit(X_train, y_train, validation_data=(X_val, y_val), epochs=20)"
   ]
  },
  {
   "cell_type": "code",
   "execution_count": 57,
   "id": "bc8f7c67",
   "metadata": {},
   "outputs": [
    {
     "data": {
      "image/png": "[encoded data removed]",
      "text/plain": [
       "<Figure size 640x480 with 1 Axes>"
      ]
     },
     "metadata": {},
     "output_type": "display_data"
    }
   ],
   "source": [
    "# Training and validation Accuracy:\n",
    "plt.plot(history.history['accuracy'], label=\"Training accuracy\")\n",
    "plt.plot(history.history['val_accuracy'], label=\"Test accuracy\")\n",
    "plt.title('Model Accuracy')\n",
    "plt.ylabel('Accuracy')\n",
    "plt.xlabel('Epochs')\n",
    "plt.grid()\n",
    "plt.legend()\n",
    "plt.show()"
   ]
  },
  {
   "cell_type": "code",
   "execution_count": 58,
   "id": "e0b236c9",
   "metadata": {},
   "outputs": [
    {
     "data": {
      "image/png": "[encoded data removed]",
      "text/plain": [
       "<Figure size 640x480 with 1 Axes>"
      ]
     },
     "metadata": {},
     "output_type": "display_data"
    }
   ],
   "source": [
    "# Training and validation Loss:\n",
    "plt.plot(history.history['loss'], label='Training loss')\n",
    "plt.plot(history.history['val_loss'], label='Validation loss')\n",
    "plt.title('Model Loss')\n",
    "plt.ylabel('Loss')\n",
    "plt.xlabel('Epochs')\n",
    "plt.grid()\n",
    "plt.legend()\n",
    "plt.show()"
   ]
  },
  {
   "cell_type": "markdown",
   "id": "721df98d",
   "metadata": {},
   "source": [
    "# 3. Model Predictions and Evaluation:"
   ]
  },
  {
   "cell_type": "code",
   "execution_count": 59,
   "id": "e4656396",
   "metadata": {},
   "outputs": [
    {
     "name": "stdout",
     "output_type": "stream",
     "text": [
      "685/685 [==============================] - 1s 945us/step - loss: 0.2269 - accuracy: 0.9594\n",
      "Model Accuracy is 0.9593915343284607\n",
      "Model Loss is 0.22691485285758972\n"
     ]
    }
   ],
   "source": [
    "# prediction for ANN model:\n",
    "model_predictions = model.predict(X_test)\n",
    "test_loss, test_acc = model.evaluate(X_test, y_test)\n",
    "print(f'Model Accuracy is {test_acc}')\n",
    "print(f'Model Loss is {test_loss}')"
   ]
  },
  {
   "cell_type": "code",
   "execution_count": 60,
   "id": "25989989",
   "metadata": {},
   "outputs": [
    {
     "name": "stdout",
     "output_type": "stream",
     "text": [
      "              precision    recall  f1-score   support\n",
      "\n",
      "         0.0       0.99      0.97      0.98     18118\n",
      "         1.0       0.51      0.79      0.62       556\n",
      "         2.0       0.92      0.92      0.92      1448\n",
      "         3.0       0.59      0.83      0.69       162\n",
      "         4.0       0.96      0.98      0.97      1608\n",
      "\n",
      "    accuracy                           0.96     21892\n",
      "   macro avg       0.79      0.90      0.84     21892\n",
      "weighted avg       0.97      0.96      0.96     21892\n",
      "\n"
     ]
    }
   ],
   "source": [
    "# Classification report:\n",
    "print(classification_report(y_true=y_test, y_pred=np.argmax(model_predictions, axis=1)))"
   ]
  },
  {
   "cell_type": "code",
   "execution_count": 61,
   "id": "dbab59ec",
   "metadata": {},
   "outputs": [
    {
     "data": {
      "image/png": "[encoded data removed]",
      "text/plain": [
       "<Figure size 500x400 with 2 Axes>"
      ]
     },
     "metadata": {},
     "output_type": "display_data"
    }
   ],
   "source": [
    "# Confusion Matrix:\n",
    "cm = confusion_matrix(y_true=y_test, y_pred=np.argmax(model_predictions, axis=1))\n",
    "plt.figure(figsize=(5, 4))\n",
    "sns.heatmap(cm, annot=True, fmt='d')\n",
    "plt.xlabel(\"Predicted\")\n",
    "plt.ylabel(\"Actual\")\n",
    "plt.show()"
   ]
  },
  {
   "cell_type": "markdown",
   "id": "61bda90a",
   "metadata": {},
   "source": [
    "# 4. Cross Validation:"
   ]
  },
  {
   "cell_type": "code",
   "execution_count": 62,
   "id": "8d97ed0d",
   "metadata": {},
   "outputs": [
    {
     "name": "stdout",
     "output_type": "stream",
     "text": [
      "Epoch 1/20\n",
      "3364/3364 [==============================] - 6s 1ms/step - loss: 0.7593 - accuracy: 0.7471\n",
      "Epoch 2/20\n",
      "3364/3364 [==============================] - 4s 1ms/step - loss: 0.2540 - accuracy: 0.9104\n",
      "Epoch 3/20\n",
      "3364/3364 [==============================] - 5s 1ms/step - loss: 0.1842 - accuracy: 0.9360\n",
      "Epoch 4/20\n",
      "3364/3364 [==============================] - 4s 1ms/step - loss: 0.1453 - accuracy: 0.9509\n",
      "Epoch 5/20\n",
      "3364/3364 [==============================] - 5s 1ms/step - loss: 0.1248 - accuracy: 0.9573\n",
      "Epoch 6/20\n",
      "3364/3364 [==============================] - 5s 1ms/step - loss: 0.1079 - accuracy: 0.9638\n",
      "Epoch 7/20\n",
      "3364/3364 [==============================] - 5s 1ms/step - loss: 0.0952 - accuracy: 0.9683\n",
      "Epoch 8/20\n",
      "3364/3364 [==============================] - 5s 2ms/step - loss: 0.0869 - accuracy: 0.9712\n",
      "Epoch 9/20\n",
      "3364/3364 [==============================] - 5s 2ms/step - loss: 0.0792 - accuracy: 0.9736\n",
      "Epoch 10/20\n",
      "3364/3364 [==============================] - 5s 2ms/step - loss: 0.0714 - accuracy: 0.9768\n",
      "Epoch 11/20\n",
      "3364/3364 [==============================] - 5s 2ms/step - loss: 0.0648 - accuracy: 0.9791\n",
      "Epoch 12/20\n",
      "3364/3364 [==============================] - 5s 2ms/step - loss: 0.0597 - accuracy: 0.9803\n",
      "Epoch 13/20\n",
      "3364/3364 [==============================] - 6s 2ms/step - loss: 0.0560 - accuracy: 0.9816\n",
      "Epoch 14/20\n",
      "3364/3364 [==============================] - 5s 2ms/step - loss: 0.0520 - accuracy: 0.9834\n",
      "Epoch 15/20\n",
      "3364/3364 [==============================] - 6s 2ms/step - loss: 0.0480 - accuracy: 0.9847\n",
      "Epoch 16/20\n",
      "3364/3364 [==============================] - 5s 1ms/step - loss: 0.0474 - accuracy: 0.9848\n",
      "Epoch 17/20\n",
      "3364/3364 [==============================] - 6s 2ms/step - loss: 0.0433 - accuracy: 0.9864\n",
      "Epoch 18/20\n",
      "3364/3364 [==============================] - 5s 2ms/step - loss: 0.0412 - accuracy: 0.9866\n",
      "Epoch 19/20\n",
      "3364/3364 [==============================] - 6s 2ms/step - loss: 0.0393 - accuracy: 0.9871\n",
      "Epoch 20/20\n",
      "3364/3364 [==============================] - 5s 1ms/step - loss: 0.0369 - accuracy: 0.9880\n",
      "1122/1122 [==============================] - 2s 1ms/step - loss: 0.0525 - accuracy: 0.9842\n",
      "Epoch 1/20\n",
      "3364/3364 [==============================] - 7s 2ms/step - loss: 0.7202 - accuracy: 0.7575\n",
      "Epoch 2/20\n",
      "3364/3364 [==============================] - 6s 2ms/step - loss: 0.2364 - accuracy: 0.9143\n",
      "Epoch 3/20\n",
      "3364/3364 [==============================] - 5s 2ms/step - loss: 0.1752 - accuracy: 0.9384\n",
      "Epoch 4/20\n",
      "3364/3364 [==============================] - 6s 2ms/step - loss: 0.1418 - accuracy: 0.9518\n",
      "Epoch 5/20\n",
      "3364/3364 [==============================] - 5s 2ms/step - loss: 0.1211 - accuracy: 0.9586\n",
      "Epoch 6/20\n",
      "3364/3364 [==============================] - 6s 2ms/step - loss: 0.1047 - accuracy: 0.9648\n",
      "Epoch 7/20\n",
      "3364/3364 [==============================] - 5s 2ms/step - loss: 0.0913 - accuracy: 0.9691\n",
      "Epoch 8/20\n",
      "3364/3364 [==============================] - 6s 2ms/step - loss: 0.0838 - accuracy: 0.9722\n",
      "Epoch 9/20\n",
      "3364/3364 [==============================] - 6s 2ms/step - loss: 0.0745 - accuracy: 0.9751\n",
      "Epoch 10/20\n",
      "3364/3364 [==============================] - 6s 2ms/step - loss: 0.0697 - accuracy: 0.9768\n",
      "Epoch 11/20\n",
      "3364/3364 [==============================] - 6s 2ms/step - loss: 0.0647 - accuracy: 0.9786\n",
      "Epoch 12/20\n",
      "3364/3364 [==============================] - 5s 2ms/step - loss: 0.0594 - accuracy: 0.9801\n",
      "Epoch 13/20\n",
      "3364/3364 [==============================] - 6s 2ms/step - loss: 0.0554 - accuracy: 0.9816\n",
      "Epoch 14/20\n",
      "3364/3364 [==============================] - 5s 2ms/step - loss: 0.0538 - accuracy: 0.9822\n",
      "Epoch 15/20\n",
      "3364/3364 [==============================] - 6s 2ms/step - loss: 0.0501 - accuracy: 0.9836\n",
      "Epoch 16/20\n",
      "3364/3364 [==============================] - 5s 2ms/step - loss: 0.0461 - accuracy: 0.9846\n",
      "Epoch 17/20\n",
      "3364/3364 [==============================] - 8s 2ms/step - loss: 0.0449 - accuracy: 0.9852\n",
      "Epoch 18/20\n",
      "3364/3364 [==============================] - 8s 2ms/step - loss: 0.0442 - accuracy: 0.9853\n",
      "Epoch 19/20\n",
      "3364/3364 [==============================] - 7s 2ms/step - loss: 0.0414 - accuracy: 0.9863\n",
      "Epoch 20/20\n",
      "3364/3364 [==============================] - 6s 2ms/step - loss: 0.0387 - accuracy: 0.9872\n",
      "1122/1122 [==============================] - 2s 2ms/step - loss: 0.0545 - accuracy: 0.9822\n",
      "Epoch 1/20\n",
      "3364/3364 [==============================] - 7s 2ms/step - loss: 0.7238 - accuracy: 0.7556\n",
      "Epoch 2/20\n",
      "3364/3364 [==============================] - 7s 2ms/step - loss: 0.2399 - accuracy: 0.9128\n",
      "Epoch 3/20\n",
      "3364/3364 [==============================] - 5s 2ms/step - loss: 0.1782 - accuracy: 0.9365\n",
      "Epoch 4/20\n",
      "3364/3364 [==============================] - 6s 2ms/step - loss: 0.1423 - accuracy: 0.9497\n",
      "Epoch 5/20\n",
      "3364/3364 [==============================] - 5s 2ms/step - loss: 0.1165 - accuracy: 0.9600\n",
      "Epoch 6/20\n",
      "3364/3364 [==============================] - 6s 2ms/step - loss: 0.1025 - accuracy: 0.9647\n",
      "Epoch 7/20\n",
      "3364/3364 [==============================] - 6s 2ms/step - loss: 0.0878 - accuracy: 0.9702\n",
      "Epoch 8/20\n",
      "3364/3364 [==============================] - 6s 2ms/step - loss: 0.0802 - accuracy: 0.9732\n",
      "Epoch 9/20\n",
      "3364/3364 [==============================] - 6s 2ms/step - loss: 0.0707 - accuracy: 0.9764\n",
      "Epoch 10/20\n",
      "3364/3364 [==============================] - 6s 2ms/step - loss: 0.0650 - accuracy: 0.9781\n",
      "Epoch 11/20\n",
      "3364/3364 [==============================] - 6s 2ms/step - loss: 0.0586 - accuracy: 0.9801\n",
      "Epoch 12/20\n",
      "3364/3364 [==============================] - 5s 2ms/step - loss: 0.0559 - accuracy: 0.9813\n",
      "Epoch 13/20\n",
      "3364/3364 [==============================] - 6s 2ms/step - loss: 0.0500 - accuracy: 0.9837\n",
      "Epoch 14/20\n",
      "3364/3364 [==============================] - 6s 2ms/step - loss: 0.0479 - accuracy: 0.9840\n",
      "Epoch 15/20\n",
      "3364/3364 [==============================] - 6s 2ms/step - loss: 0.0443 - accuracy: 0.9858\n",
      "Epoch 16/20\n",
      "3364/3364 [==============================] - 6s 2ms/step - loss: 0.0442 - accuracy: 0.9852\n",
      "Epoch 17/20\n",
      "3364/3364 [==============================] - 7s 2ms/step - loss: 0.0405 - accuracy: 0.9868\n",
      "Epoch 18/20\n",
      "3364/3364 [==============================] - 6s 2ms/step - loss: 0.0391 - accuracy: 0.9868\n",
      "Epoch 19/20\n",
      "3364/3364 [==============================] - 6s 2ms/step - loss: 0.0381 - accuracy: 0.9873\n",
      "Epoch 20/20\n",
      "3364/3364 [==============================] - 7s 2ms/step - loss: 0.0369 - accuracy: 0.9879\n",
      "1122/1122 [==============================] - 1s 1ms/step - loss: 0.0399 - accuracy: 0.9875\n",
      "Epoch 1/20\n",
      "3364/3364 [==============================] - 9s 2ms/step - loss: 0.7404 - accuracy: 0.7570\n",
      "Epoch 2/20\n",
      "3364/3364 [==============================] - 6s 2ms/step - loss: 0.2516 - accuracy: 0.9095\n",
      "Epoch 3/20\n",
      "3364/3364 [==============================] - 6s 2ms/step - loss: 0.1776 - accuracy: 0.9375\n",
      "Epoch 4/20\n",
      "3364/3364 [==============================] - 6s 2ms/step - loss: 0.1422 - accuracy: 0.9505\n",
      "Epoch 5/20\n",
      "3364/3364 [==============================] - 7s 2ms/step - loss: 0.1211 - accuracy: 0.9588\n",
      "Epoch 6/20\n",
      "3364/3364 [==============================] - 8s 2ms/step - loss: 0.0985 - accuracy: 0.9669\n",
      "Epoch 7/20\n",
      "3364/3364 [==============================] - 7s 2ms/step - loss: 0.0867 - accuracy: 0.9713\n",
      "Epoch 8/20\n",
      "3364/3364 [==============================] - 6s 2ms/step - loss: 0.0798 - accuracy: 0.9735\n",
      "Epoch 9/20\n",
      "3364/3364 [==============================] - 7s 2ms/step - loss: 0.0742 - accuracy: 0.9748\n",
      "Epoch 10/20\n",
      "3364/3364 [==============================] - 6s 2ms/step - loss: 0.0654 - accuracy: 0.9775\n",
      "Epoch 11/20\n",
      "3364/3364 [==============================] - 7s 2ms/step - loss: 0.0599 - accuracy: 0.9800\n",
      "Epoch 12/20\n",
      "3364/3364 [==============================] - 6s 2ms/step - loss: 0.0565 - accuracy: 0.9809\n",
      "Epoch 13/20\n",
      "3364/3364 [==============================] - 6s 2ms/step - loss: 0.0539 - accuracy: 0.9823\n",
      "Epoch 14/20\n",
      "3364/3364 [==============================] - 7s 2ms/step - loss: 0.0499 - accuracy: 0.9834\n",
      "Epoch 15/20\n",
      "3364/3364 [==============================] - 6s 2ms/step - loss: 0.0473 - accuracy: 0.9845\n",
      "Epoch 16/20\n",
      "3364/3364 [==============================] - 7s 2ms/step - loss: 0.0452 - accuracy: 0.9853\n",
      "Epoch 17/20\n",
      "3364/3364 [==============================] - 6s 2ms/step - loss: 0.0420 - accuracy: 0.9861\n",
      "Epoch 18/20\n",
      "3364/3364 [==============================] - 5s 2ms/step - loss: 0.0399 - accuracy: 0.9867\n",
      "Epoch 19/20\n",
      "3364/3364 [==============================] - 5s 1ms/step - loss: 0.0399 - accuracy: 0.9868\n",
      "Epoch 20/20\n",
      "3364/3364 [==============================] - 5s 2ms/step - loss: 0.0372 - accuracy: 0.9876\n",
      "1122/1122 [==============================] - 1s 848us/step - loss: 0.0400 - accuracy: 0.9877\n"
     ]
    }
   ],
   "source": [
    "results = []\n",
    "estimator = KerasClassifier(build_fn=ann_model, epochs=20, batch_size=64)\n",
    "kfold = KFold(n_splits=4)\n",
    "results.append(cross_val_score(estimator,X_train, y_train, cv=kfold))"
   ]
  },
  {
   "cell_type": "code",
   "execution_count": 63,
   "id": "963bf363",
   "metadata": {},
   "outputs": [
    {
     "data": {
      "text/html": [
       "<div>\n",
       "<style scoped>\n",
       "    .dataframe tbody tr th:only-of-type {\n",
       "        vertical-align: middle;\n",
       "    }\n",
       "\n",
       "    .dataframe tbody tr th {\n",
       "        vertical-align: top;\n",
       "    }\n",
       "\n",
       "    .dataframe thead th {\n",
       "        text-align: right;\n",
       "    }\n",
       "</style>\n",
       "<table border=\"1\" class=\"dataframe\">\n",
       "  <thead>\n",
       "    <tr style=\"text-align: right;\">\n",
       "      <th></th>\n",
       "      <th>0</th>\n",
       "      <th>1</th>\n",
       "      <th>2</th>\n",
       "      <th>3</th>\n",
       "      <th>Mean</th>\n",
       "    </tr>\n",
       "    <tr>\n",
       "      <th>Model</th>\n",
       "      <th></th>\n",
       "      <th></th>\n",
       "      <th></th>\n",
       "      <th></th>\n",
       "      <th></th>\n",
       "    </tr>\n",
       "  </thead>\n",
       "  <tbody>\n",
       "    <tr>\n",
       "      <th>ANN</th>\n",
       "      <td>0.984238</td>\n",
       "      <td>0.982161</td>\n",
       "      <td>0.987457</td>\n",
       "      <td>0.987666</td>\n",
       "      <td>0.98538</td>\n",
       "    </tr>\n",
       "  </tbody>\n",
       "</table>\n",
       "</div>"
      ],
      "text/plain": [
       "              0         1         2         3     Mean\n",
       "Model                                                 \n",
       "ANN    0.984238  0.982161  0.987457  0.987666  0.98538"
      ]
     },
     "execution_count": 63,
     "metadata": {},
     "output_type": "execute_result"
    }
   ],
   "source": [
    "cv_results = pd.DataFrame(results)\n",
    "cv_index = ['ANN']\n",
    "cv_results['Model'] = cv_index\n",
    "cv_results.set_index('Model', inplace=True)\n",
    "cv_results['Mean'] = cv_results.mean(axis=1)\n",
    "cv_results"
   ]
  }
 ],
 "metadata": {
  "kernelspec": {
   "display_name": "Python 3 (ipykernel)",
   "language": "python",
   "name": "python3"
  },
  "language_info": {
   "codemirror_mode": {
    "name": "ipython",
    "version": 3
   },
   "file_extension": ".py",
   "mimetype": "text/x-python",
   "name": "python",
   "nbconvert_exporter": "python",
   "pygments_lexer": "ipython3",
   "version": "3.9.4"
  }
 },
 "nbformat": 4,
 "nbformat_minor": 5
}
